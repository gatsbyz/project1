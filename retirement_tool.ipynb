{
 "cells": [
  {
   "cell_type": "markdown",
   "metadata": {
    "tags": []
   },
   "source": [
    "# Retirement Tool\n"
   ]
  },
  {
   "cell_type": "markdown",
   "metadata": {},
   "source": [
    "# Retirement Planning Tool\n",
    "\n",
    "Part 1: Data inputs will be generated to determine the years in retirement, size of current portfolio, and historical growth rates of indices.\n",
    "\n",
    "Part 2: Users will forecast the performance of their portfolio at the age they wish to retire until they turn 80. Historical price data for 3 years will be used to generate Monte Carlo simulations to compute total savings (mean) for the first year of retirement. We are assuming that it will cost 150,000 per year to retire in NYC or 2.25 million to retire at 65.\n",
    "\n",
    "Part 3: This total will be exported to the Cost of Living Calculator to determine the list of cities where the user can feasibly retire."
   ]
  },
  {
   "cell_type": "code",
   "execution_count": 1,
   "metadata": {},
   "outputs": [
    {
     "ename": "ModuleNotFoundError",
     "evalue": "No module named 'dotenv'",
     "output_type": "error",
     "traceback": [
      "\u001b[0;31m---------------------------------------------------------------------------\u001b[0m",
      "\u001b[0;31mModuleNotFoundError\u001b[0m                       Traceback (most recent call last)",
      "\u001b[0;32m/var/folders/l4/626zqfvx37j782zmlbnjk2zh0000gp/T/ipykernel_3299/1067825792.py\u001b[0m in \u001b[0;36m<module>\u001b[0;34m\u001b[0m\n\u001b[1;32m      4\u001b[0m \u001b[0;32mimport\u001b[0m \u001b[0mjson\u001b[0m\u001b[0;34m\u001b[0m\u001b[0;34m\u001b[0m\u001b[0m\n\u001b[1;32m      5\u001b[0m \u001b[0;32mimport\u001b[0m \u001b[0mpandas\u001b[0m \u001b[0;32mas\u001b[0m \u001b[0mpd\u001b[0m\u001b[0;34m\u001b[0m\u001b[0;34m\u001b[0m\u001b[0m\n\u001b[0;32m----> 6\u001b[0;31m \u001b[0;32mfrom\u001b[0m \u001b[0mdotenv\u001b[0m \u001b[0;32mimport\u001b[0m \u001b[0mload_dotenv\u001b[0m\u001b[0;34m\u001b[0m\u001b[0;34m\u001b[0m\u001b[0m\n\u001b[0m\u001b[1;32m      7\u001b[0m \u001b[0;32mimport\u001b[0m \u001b[0malpaca_trade_api\u001b[0m \u001b[0;32mas\u001b[0m \u001b[0mtradeapi\u001b[0m\u001b[0;34m\u001b[0m\u001b[0;34m\u001b[0m\u001b[0m\n\u001b[1;32m      8\u001b[0m \u001b[0;32mfrom\u001b[0m \u001b[0mMCForecastTools\u001b[0m \u001b[0;32mimport\u001b[0m \u001b[0mMCSimulation\u001b[0m\u001b[0;34m\u001b[0m\u001b[0;34m\u001b[0m\u001b[0m\n",
      "\u001b[0;31mModuleNotFoundError\u001b[0m: No module named 'dotenv'"
     ]
    }
   ],
   "source": [
    "# Import the required libraries and dependencies\n",
    "import os\n",
    "import requests\n",
    "import json\n",
    "import pandas as pd\n",
    "from dotenv import load_dotenv\n",
    "import alpaca_trade_api as tradeapi\n",
    "from MCForecastTools import MCSimulation\n",
    "import sys\n",
    "from tkinter import Y\n",
    "import fire\n",
    "import questionary\n",
    "from pathlib import Path\n",
    "\n",
    "%matplotlib inline"
   ]
  },
  {
   "cell_type": "markdown",
   "metadata": {},
   "source": [
    "## Load the environment variables from the .env file\n",
    "#by calling the load_dotenv function\n",
    "load_dotenv(\"SAMPLE.env\")\n",
    "Step 1: Questionary inputs and \"For Loop\" to generate list of qualifying cities."
   ]
  },
  {
   "cell_type": "code",
   "execution_count": null,
   "metadata": {},
   "outputs": [],
   "source": [
    "# Inputs\n",
    "\n",
    "#age = input(int(\"What is your current age?\")\n",
    "#retirement_age = input(int(\"When would you like to retire?\")\n",
    "#age_of_death = 80\n",
    "#retirement_years = age_of_death - retirement_age\n",
    "#years_to_retirment = retirement_age - age\n",
    "#savings = input(int(\"How much do you have in your savings account today?\")\n",
    "#cost_of_living = #listofcitieswithcostofliving\n",
    "#portfolio_type = input(int(\"Would you like your portfolio to be conservative, conservatively moderate, or moderate?\"))\n",
    "#stock_portoflio_$amount =input(int(\"How much do you have in your stock account?\")\n",
    "#bond_portoflio_$amount =input(int(\"How much do you have in your bond account?\")\n",
    "\n",
    "def get_retire_plan():\n",
    "\n",
    "    age = questionary.text(\"What is your current age\").ask()\n",
    "    retirement_age = questionary.text(\"By what age, would you prefer to retire?\").ask()\n",
    "    savings = questionary.text(\"How much do you have in liquid cash savings (USD)\").ask()\n",
    "    portfolio_type = questionary.text(\"Would you like your portfolio to be conservative[1], conservatively moderate[2], or moderate[3]? (Enter 1, 2, or 3)\").ask()\n",
    "    stock_portfolio_amount = questionary.text(\"What is the total cash value of stock holdings?\").ask()\n",
    "    bond_portfolio_amount = questionary.text(\"What is the total cash value of bond holdings?\").ask()\n",
    "        \n",
    "    age = int(age)\n",
    "    retirement_age = int(retirement_age)\n",
    "    savings = float(savings)\n",
    "    portfolio_type = int(portfolio_type)\n",
    "    stock_portfolio_amount = float(stock_portfolio_amount)\n",
    "    bond_portfolio_amount = float(bond_portfolio_amount)\n",
    "\n",
    "    return age, retirement_age, savings, portfolio_type, stock_portfolio_amount, bond_portfolio_amount\n",
    "\n",
    "age_of_death = int(80)\n",
    "#retirement_years = int(age_of_death - retirement_age)\n",
    "#years_to_retirement = int(retirement_age - age)\n",
    "#total_stocks_bonds = float(stock_portfolio_amount + bond_portfolio_amount)\n",
    "\n",
    "def run_app():\n",
    "    \"\"\"The main function for running the script.\"\"\"\n",
    "\n",
    "    # Get the applicant's information\n",
    "    age, retirement_age, savings, portfolio_type, stock_portfolio_amount, bond_portfolio_amount = get_retire_plan()\n",
    "\n",
    "if __name__ == \"__main__\":\n",
    "    fire.Fire(run_app)"
   ]
  },
  {
   "cell_type": "code",
   "execution_count": null,
   "metadata": {},
   "outputs": [],
   "source": [
    "tickers=[\"SPY\", \"AGG\"]\n",
    "\n",
    "\n",
    "\n",
    "#For loop to create a list of cities the individual can afford to retire in based on their savings and portfolio\n",
    "\n",
    "#Assigning value in order to run code. Section to be added\n",
    "\n",
    "\n"
   ]
  },
  {
   "cell_type": "code",
   "execution_count": null,
   "metadata": {},
   "outputs": [],
   "source": [
    "load_dotenv()"
   ]
  },
  {
   "cell_type": "markdown",
   "metadata": {},
   "source": [
    "### Get data from Alpaca for MC Simulation of retirement portfolio."
   ]
  },
  {
   "cell_type": "code",
   "execution_count": null,
   "metadata": {},
   "outputs": [],
   "source": [
    "# Set the variables for the Alpaca API and secret keys\n",
    "alpaca_api_key = os.getenv(\"ALPACA_API_KEY\")\n",
    "alpaca_secret_key = os.getenv(\"ALPACA_SECRET_KEY\")\n",
    "\n",
    "# Create the Alpaca tradeapi.REST object\n",
    "alpaca = tradeapi.REST(\n",
    "    alpaca_api_key,\n",
    "    alpaca_secret_key,\n",
    "    api_version=\"v2\")"
   ]
  },
  {
   "cell_type": "markdown",
   "metadata": {},
   "source": [
    "Step 1: Create a Python list named savings_data that has two elements. The first element contains the total value of the cryptocurrency wallet. The second element contains the total value of the stock and bond portions of the portfolio."
   ]
  },
  {
   "cell_type": "code",
   "execution_count": null,
   "metadata": {},
   "outputs": [],
   "source": [
    "# Consolidate financial assets data into a Python list\n",
    "savings_data=[]\n",
    "\n",
    "savings_data.append(savings)\n",
    "savings_data.append(total_stocks_bonds)\n",
    "    \n",
    "\n",
    "# Review the Python list savings_data\n",
    "savings_data  "
   ]
  },
  {
   "cell_type": "markdown",
   "metadata": {},
   "source": [
    "Step 2: Use the savings_data list to create a Pandas DataFrame named savings_df, and then display this DataFrame. The function to create the DataFrame should take the following three parameters:\n",
    "savings_data: Use the list that you just created.\n",
    "\n",
    "columns: Set this parameter equal to a Python list with a single value called amount.\n",
    "\n",
    "index: Set this parameter equal to a Python list with the values of crypto and stock/bond."
   ]
  },
  {
   "cell_type": "code",
   "execution_count": null,
   "metadata": {},
   "outputs": [],
   "source": [
    "# Create a Pandas DataFrame called savings_df \n",
    "index=[\"cash\", \"stock/bond\"]\n",
    "columns=[\"amount\"]\n",
    "savings_df = pd.DataFrame(savings_data , columns=columns, index=index)\n",
    "\n",
    "# Display the savings_df DataFrame\n",
    "savings_df"
   ]
  },
  {
   "cell_type": "markdown",
   "metadata": {},
   "source": [
    "Part 2: Create a Financial Planner for Retirement\n",
    "\n",
    "Step 1: Make an API call via the Alpaca SDK to get 3 years of historical closing prices for a traditional 60/40 portfolio split: 60% stocks (SPY) and 40% bonds (AGG)."
   ]
  },
  {
   "cell_type": "code",
   "execution_count": null,
   "metadata": {},
   "outputs": [],
   "source": [
    "# Set start and end dates of 3 years back from your current date\n",
    "# Alternatively, you can use an end date of 2020-08-07 and work 3 years back from that date \n",
    "start_date = pd.Timestamp(\"2019-04-22\", tz=\"America/New_York\").isoformat()\n",
    "end_date = pd.Timestamp(\"2022-04-22\", tz=\"America/New_York\").isoformat()\n",
    "\n",
    "# Set number of rows to 1000 to retrieve the maximum amount of rows\n",
    "limit_rows=10000"
   ]
  },
  {
   "cell_type": "code",
   "execution_count": null,
   "metadata": {},
   "outputs": [],
   "source": [
    "# Use the Alpaca get_bars function to make the API call to get the 3 years worth of pricing data\n",
    "# The tickers and timeframe parameters should have been set in Part 1 of this activity \n",
    "# The start and end dates should be updated with the information set above\n",
    "# Remember to add the df property to the end of the call so the response is returned as a DataFrame\n",
    "timeframe=\"1Day\"\n",
    "\n",
    "df_portfolio = alpaca.get_bars(\n",
    "    tickers,\n",
    "    timeframe,\n",
    "    start = start_date,\n",
    "    end = end_date,\n",
    "    limit=limit_rows\n",
    ").df\n",
    "\n",
    "\n",
    "\n",
    "# Reorganize the DataFrame\n",
    "# Separate ticker data\n",
    "SPY = df_portfolio[df_portfolio['symbol']=='SPY'].drop('symbol', axis=1)\n",
    "AGG = df_portfolio[df_portfolio['symbol']=='AGG'].drop('symbol', axis=1)\n",
    "\n",
    "\n",
    "# Concatenate the ticker DataFrames\n",
    "df_portfolio = pd.concat([SPY,AGG],axis=1, keys=['SPY','AGG'])\n",
    "\n",
    "\n",
    "# Display both the first and last five rows of the DataFrame\n",
    "display(df_portfolio.head())\n",
    "display(df_portfolio.tail())"
   ]
  },
  {
   "cell_type": "markdown",
   "metadata": {},
   "source": [
    "Step 2: Run a Monte Carlo simulation of 500 samples and 30 years for the 60/40 portfolio, and then plot the results."
   ]
  },
  {
   "cell_type": "code",
   "execution_count": null,
   "metadata": {},
   "outputs": [],
   "source": [
    "# Configure the Monte Carlo simulation to forecast 30 years cumulative returns\n",
    "# The weights should be split 40% to FXNAX and 60% to SPY.\n",
    "# Run 500 samples.\n",
    "\n",
    "#years_to_retirment = retirement_age - age\n",
    "\n",
    "def MonteCarlo():\n",
    "    if portfolio_type == 'Moderate':\n",
    "        MonteCarlo_output = MCSimulation(\n",
    "            portfolio_data = df_portfolio,\n",
    "            weights = [.63,.37],\n",
    "            num_simulation = 500,\n",
    "            num_trading_days = 252*years_to_retirement\n",
    ")\n",
    "        return MonteCarlo_output\n",
    "        \n",
    "    elif portfolio_type == \"Conservative\":\n",
    "        MonteCarlo_output = MCSimulation(\n",
    "            portfolio_data = df_portfolio,\n",
    "            weights = [.44,.56],\n",
    "            num_simulation = 500,\n",
    "            num_trading_days = 252*years_to_retirement\n",
    ")\n",
    "\n",
    "        return MonteCarlo_output\n",
    "        \n",
    "    else:\n",
    "        MonteCarlo_output == MCSimulation(\n",
    "            portfolio_data = df_portfolio,\n",
    "            weights = [.29,.71],\n",
    "            num_simulation = 500,\n",
    "            num_trading_days = 252*years_to_retirement\n",
    ")\n",
    "\n",
    "        return MonteCarlo_output\n",
    "\n",
    "# Review the simulation input data\n",
    "\n",
    "output = MonteCarlo()\n",
    "\n",
    "output.portfolio_data.dropna()\n",
    "\n"
   ]
  },
  {
   "cell_type": "code",
   "execution_count": null,
   "metadata": {},
   "outputs": [],
   "source": [
    "# Run the Monte Carlo simulation to forecast 30 years cumulative returns\n",
    "output.calc_cumulative_return()"
   ]
  },
  {
   "cell_type": "code",
   "execution_count": null,
   "metadata": {},
   "outputs": [],
   "source": [
    "# Visualize the 30-year Monte Carlo simulation by creating an\n",
    "# overlay line plot\n",
    "MC_sim_line_plot = output.plot_simulation()"
   ]
  },
  {
   "cell_type": "code",
   "execution_count": null,
   "metadata": {},
   "outputs": [],
   "source": [
    "Step 3: Plot the probability distribution of the Monte Carlo simulation."
   ]
  },
  {
   "cell_type": "code",
   "execution_count": null,
   "metadata": {},
   "outputs": [],
   "source": [
    "# Visualize the probability distribution of the 30-year Monte Carlo simulation \n",
    "# by plotting a histogram\n",
    "MC_sim_dist_plot = output.plot_distribution()"
   ]
  },
  {
   "cell_type": "code",
   "execution_count": null,
   "metadata": {},
   "outputs": [],
   "source": [
    "Step 4: Generate the summary statistics for the Monte Carlo simulation.\n",
    "# Generate summary statistics from the {years_to_retirement} Monte Carlo simulation results\n",
    "# Save the results as a variable\n",
    "MC_summary_statistics = output.summarize_cumulative_return()\n",
    "\n",
    "\n",
    "# Review the {years_to_retirement} Monte Carlo summary statistics\n",
    "print(MC_summary_statistics)"
   ]
  },
  {
   "cell_type": "markdown",
   "metadata": {},
   "source": [
    "Analyze the Retirement Portfolio Forecasts\n",
    "Using the current value of only the stock and bond portion of the member's portfolio and the summary statistics that you generated from the Monte Carlo simulation, answer the following question in your Jupyter notebook:\n",
    "\n",
    "What are the lower and upper bounds for the expected value of the portfolio with a 95% confidence interval?"
   ]
  },
  {
   "cell_type": "code",
   "execution_count": null,
   "metadata": {},
   "outputs": [],
   "source": [
    "# Print the current balance of the stock and bond portion of the members portfolio\n",
    "print(f\"The current balance of the stock and bond portion of the members' portfolio is: ${total_stocks_bonds}\")\n",
    "total_stocks_bonds"
   ]
  },
  {
   "cell_type": "code",
   "execution_count": null,
   "metadata": {},
   "outputs": [],
   "source": [
    "# Use the lower and upper `95%` confidence intervals to calculate the range of the possible outcomes for the current stock/bond portfolio\n",
    "#ci_lower_thirty_cumulative_return = MC_summary_statistics[8] * float(total_stocks_bonds)\n",
    "#ci_upper_thirty_cumulative_return = MC_summary_statistics[9] * float(total_stocks_bonds)\n",
    "mean_cumulative_return = MC_summary_statistics[5] * float(total_stocks_bonds)\n",
    "\n",
    "\n",
    "# Print the result of your calculations\n",
    "print(f\"The initial investment of ${total_stocks_bonds} in the portfolio\"\n",
    "    f\" over the next {years_to_retirement} will end on average\"\n",
    "    f\" ${mean_cumulative_return: .2f}.\")"
   ]
  },
  {
   "cell_type": "code",
   "execution_count": null,
   "metadata": {},
   "outputs": [],
   "source": [
    "Sum the total forecasted investment with the cash savings to arrive at the reitrement savings amount."
   ]
  },
  {
   "cell_type": "code",
   "execution_count": null,
   "metadata": {},
   "outputs": [],
   "source": [
    "savings_at_retirement = float(mean_cumulative_return + savings)\n",
    "savings_at_retirement"
   ]
  },
  {
   "cell_type": "code",
   "execution_count": null,
   "metadata": {},
   "outputs": [],
   "source": [
    "retirement_cities = []\n",
    "                \n",
    "costOfLivingByCity = [\n",
    "    {\n",
    "        \"city\": \"Hamilton\",\n",
    "        \"cost_of_living_index\": 147.81,\n",
    "        \"cost_of_living_plus_rent_index\": 119.78,\n",
    "        \"country\": \"Bermuda\",\n",
    "        \"estimated_monthly_costs_with_rent\": 3665.6,\n",
    "        \"estimated_monthly_costs_without_rent\": 1855.53,\n",
    "        \"groceries_index\": 154.4,\n",
    "        \"local_purchasing_power_index\": 88.1,\n",
    "        \"rent_index\": 88.78,\n",
    "        \"restaurant_price_index\": 154.25\n",
    "    },\n",
    "    {\n",
    "        \"city\": \"New York\",\n",
    "        \"cost_of_living_index\": 100.0,\n",
    "        \"cost_of_living_plus_rent_index\": 100.0,\n",
    "        \"country\": \"United States\",\n",
    "        \"estimated_monthly_costs_with_rent\": 3616.0200000000004,\n",
    "        \"estimated_monthly_costs_without_rent\": 1364.22,\n",
    "        \"groceries_index\": 100.0,\n",
    "        \"local_purchasing_power_index\": 100.0,\n",
    "        \"rent_index\": 100.0,\n",
    "        \"restaurant_price_index\": 100.0\n",
    "    },\n",
    "    {\n",
    "        \"city\": \"Hong Kong\",\n",
    "        \"cost_of_living_index\": 79.62,\n",
    "        \"cost_of_living_plus_rent_index\": 75.4,\n",
    "        \"country\": \"Hong Kong\",\n",
    "        \"estimated_monthly_costs_with_rent\": 2575.87,\n",
    "        \"estimated_monthly_costs_without_rent\": 1083.08,\n",
    "        \"groceries_index\": 82.6,\n",
    "        \"local_purchasing_power_index\": 66.05,\n",
    "        \"rent_index\": 70.74,\n",
    "        \"restaurant_price_index\": 58.38\n",
    "    },\n",
    "    {\n",
    "        \"city\": \"Los Angeles\",\n",
    "        \"cost_of_living_index\": 78.53,\n",
    "        \"cost_of_living_plus_rent_index\": 75.87,\n",
    "        \"country\": \"United States\",\n",
    "        \"estimated_monthly_costs_with_rent\": 2710.7200000000003,\n",
    "        \"estimated_monthly_costs_without_rent\": 1052.74,\n",
    "        \"groceries_index\": 74.39,\n",
    "        \"local_purchasing_power_index\": 126.07,\n",
    "        \"rent_index\": 72.93,\n",
    "        \"restaurant_price_index\": 91.42\n",
    "    },\n",
    "    {\n",
    "        \"city\": \"Paris\",\n",
    "        \"cost_of_living_index\": 81.85,\n",
    "        \"cost_of_living_plus_rent_index\": 65.33,\n",
    "        \"country\": \"France\",\n",
    "        \"estimated_monthly_costs_with_rent\": 2045.1799999999998,\n",
    "        \"estimated_monthly_costs_without_rent\": 1064.56,\n",
    "        \"groceries_index\": 80.94,\n",
    "        \"local_purchasing_power_index\": 78.38,\n",
    "        \"rent_index\": 47.07,\n",
    "        \"restaurant_price_index\": 79.53\n",
    "    },\n",
    "    {\n",
    "        \"city\": \"Hamilton\",\n",
    "        \"cost_of_living_index\": 66.24,\n",
    "        \"cost_of_living_plus_rent_index\": 52.01,\n",
    "        \"country\": \"Canada\",\n",
    "        \"estimated_monthly_costs_with_rent\": 1940.19,\n",
    "        \"estimated_monthly_costs_without_rent\": 869.11,\n",
    "        \"groceries_index\": 66.36,\n",
    "        \"local_purchasing_power_index\": 85.47,\n",
    "        \"rent_index\": 36.29,\n",
    "        \"restaurant_price_index\": 64.04\n",
    "    },\n",
    "    {\n",
    "        \"city\": \"Milan\",\n",
    "        \"cost_of_living_index\": 74.46,\n",
    "        \"cost_of_living_plus_rent_index\": 59.61,\n",
    "        \"country\": \"Italy\",\n",
    "        \"estimated_monthly_costs_with_rent\": 1891.1,\n",
    "        \"estimated_monthly_costs_without_rent\": 968.81,\n",
    "        \"groceries_index\": 62.21,\n",
    "        \"local_purchasing_power_index\": 53.54,\n",
    "        \"rent_index\": 43.19,\n",
    "        \"restaurant_price_index\": 79.33\n",
    "    },\n",
    "    {\n",
    "        \"city\": \"Bucaramanga\",\n",
    "        \"cost_of_living_index\": 24.7,\n",
    "        \"cost_of_living_plus_rent_index\": 15.71,\n",
    "        \"country\": \"Colombia\",\n",
    "        \"estimated_monthly_costs_with_rent\": 481.11,\n",
    "        \"estimated_monthly_costs_without_rent\": 342.29,\n",
    "        \"groceries_index\": 19.63,\n",
    "        \"local_purchasing_power_index\": 29.77,\n",
    "        \"rent_index\": 5.78,\n",
    "        \"restaurant_price_index\": 17.74\n",
    "    },\n",
    "    {\n",
    "        \"city\": \"Madrid\",\n",
    "        \"cost_of_living_index\": 58.87,\n",
    "        \"cost_of_living_plus_rent_index\": 45.63,\n",
    "        \"country\": \"Spain\",\n",
    "        \"estimated_monthly_costs_with_rent\": 1552.51,\n",
    "        \"estimated_monthly_costs_without_rent\": 763.4,\n",
    "        \"groceries_index\": 48.64,\n",
    "        \"local_purchasing_power_index\": 73.53,\n",
    "        \"rent_index\": 30.98,\n",
    "        \"restaurant_price_index\": 61.83\n",
    "    },\n",
    "    {\n",
    "        \"city\": \"Delhi\",\n",
    "        \"cost_of_living_index\": 27.75,\n",
    "        \"cost_of_living_plus_rent_index\": 18.3,\n",
    "        \"country\": \"India\",\n",
    "        \"estimated_monthly_costs_with_rent\": 502.83,\n",
    "        \"estimated_monthly_costs_without_rent\": 369.77,\n",
    "        \"groceries_index\": 27.03,\n",
    "        \"local_purchasing_power_index\": 57.41,\n",
    "        \"rent_index\": 7.86,\n",
    "        \"restaurant_price_index\": 24.19\n",
    "    }\n",
    "]               \n",
    "                \n",
    "for city in costOfLivingByCity:\n",
    "    if savings_at_retirement >= (city['estimated_monthly_costs_with_rent'] * (retirement_years * 12)):                \n",
    "        retirement_cities.append((city)) \n",
    "print(retirement_cities)\n",
    "\n"
   ]
  }
 ],
 "metadata": {
  "kernelspec": {
   "display_name": "Python 3 (ipykernel)",
   "language": "python",
   "name": "python3"
  },
  "language_info": {
   "codemirror_mode": {
    "name": "ipython",
    "version": 3
   },
   "file_extension": ".py",
   "mimetype": "text/x-python",
   "name": "python",
   "nbconvert_exporter": "python",
   "pygments_lexer": "ipython3",
   "version": "3.9.7"
  }
 },
 "nbformat": 4,
 "nbformat_minor": 4
}
