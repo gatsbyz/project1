{
 "cells": [
  {
   "cell_type": "markdown",
   "metadata": {},
   "source": [
    "# Retirement Tool\n"
   ]
  },
  {
   "cell_type": "code",
   "execution_count": 21,
   "metadata": {},
   "outputs": [],
   "source": [
    "# Import the required libraries and dependencies\n",
    "import os\n",
    "import requests\n",
    "import json\n",
    "import pandas as pd\n",
    "from dotenv import load_dotenv\n",
    "%matplotlib inline"
   ]
  },
  {
   "cell_type": "code",
   "execution_count": 22,
   "metadata": {},
   "outputs": [
    {
     "data": {
      "text/plain": [
       "True"
      ]
     },
     "execution_count": 22,
     "metadata": {},
     "output_type": "execute_result"
    }
   ],
   "source": [
    "# Load the environment variables from the .env file by calling the load_dotenv function\n",
    "load_dotenv()"
   ]
  },
  {
   "cell_type": "markdown",
   "metadata": {},
   "source": [
    "## Part 1: Data Pull & Validation\n",
    "\n"
   ]
  },
  {
   "cell_type": "markdown",
   "metadata": {},
   "source": [
    "### Pulling from API and validating data\n"
   ]
  },
  {
   "cell_type": "markdown",
   "metadata": {},
   "source": [
    "#### Step 1.the endpoint URLs for the API calls "
   ]
  },
  {
   "cell_type": "code",
   "execution_count": 23,
   "metadata": {},
   "outputs": [],
   "source": [
    "COST_OF_LIVING_URL = \"https://cities-cost-of-living1.p.rapidapi.com/get_cities_details_by_name\"\n",
    "COST_OF_LIVING_HEADERS = {\n",
    "\t\"content-type\": \"application/x-www-form-urlencoded\",\n",
    "\t\"X-RapidAPI-Host\": \"cities-cost-of-living1.p.rapidapi.com\",\n",
    "\t\"X-RapidAPI-Key\": \"0733542605msh08db76108a18425p16aaa1jsn85b280209dcc\"\n",
    "}\n",
    "payload = {\n",
    "  'cities': '[{\"name\":\"Lisbon\",\"country\":\"Portugal\"},{\"name\":\"Paris\",\"country\":\"France\"},{\"name\":\"Hamilton\",\"country\":\"Bermuda\"},{\"name\":\"New York\",\"country\":\"United States\"}]',\n",
    "  'currencies': '[\"USD\"]'\n",
    "}"
   ]
  },
  {
   "cell_type": "markdown",
   "metadata": {},
   "source": [
    "#### Step 2. Fetch data"
   ]
  },
  {
   "cell_type": "code",
   "execution_count": 24,
   "metadata": {},
   "outputs": [
    {
     "data": {
      "text/plain": [
       "<Response [200]>"
      ]
     },
     "execution_count": 24,
     "metadata": {},
     "output_type": "execute_result"
    }
   ],
   "source": [
    "\n",
    "response = requests.request(\"POST\", COST_OF_LIVING_URL, data=payload, headers=COST_OF_LIVING_HEADERS)\n",
    "\n",
    "response\n",
    "\n"
   ]
  },
  {
   "cell_type": "code",
   "execution_count": 26,
   "metadata": {},
   "outputs": [
    {
     "ename": "AttributeError",
     "evalue": "'list' object has no attribute 'cost_of_living_details'",
     "output_type": "error",
     "traceback": [
      "\u001b[0;31m---------------------------------------------------------------------------\u001b[0m",
      "\u001b[0;31mAttributeError\u001b[0m                            Traceback (most recent call last)",
      "\u001b[1;32m/Users/jesselee/project1/retirement_tool.ipynb Cell 10'\u001b[0m in \u001b[0;36m<cell line: 8>\u001b[0;34m()\u001b[0m\n\u001b[1;32m      <a href='vscode-notebook-cell:/Users/jesselee/project1/retirement_tool.ipynb#ch0000009?line=5'>6</a>\u001b[0m         data[i][item[\u001b[39m'\u001b[39m\u001b[39mItem\u001b[39m\u001b[39m'\u001b[39m]] \u001b[39m=\u001b[39m item[\u001b[39m'\u001b[39m\u001b[39mValue\u001b[39m\u001b[39m'\u001b[39m]\n\u001b[1;32m      <a href='vscode-notebook-cell:/Users/jesselee/project1/retirement_tool.ipynb#ch0000009?line=7'>8</a>\u001b[0m \u001b[39mfor\u001b[39;00m i \u001b[39min\u001b[39;00m \u001b[39mrange\u001b[39m(\u001b[39mlen\u001b[39m(data)):      \n\u001b[0;32m----> <a href='vscode-notebook-cell:/Users/jesselee/project1/retirement_tool.ipynb#ch0000009?line=8'>9</a>\u001b[0m     \u001b[39mdelattr\u001b[39;49m(data, \u001b[39m'\u001b[39;49m\u001b[39mcost_of_living_details\u001b[39;49m\u001b[39m'\u001b[39;49m)\n\u001b[1;32m     <a href='vscode-notebook-cell:/Users/jesselee/project1/retirement_tool.ipynb#ch0000009?line=10'>11</a>\u001b[0m df \u001b[39m=\u001b[39m pd\u001b[39m.\u001b[39mDataFrame(data)\n\u001b[1;32m     <a href='vscode-notebook-cell:/Users/jesselee/project1/retirement_tool.ipynb#ch0000009?line=11'>12</a>\u001b[0m \u001b[39m# df.set_index = df['country']\u001b[39;00m\n",
      "\u001b[0;31mAttributeError\u001b[0m: 'list' object has no attribute 'cost_of_living_details'"
     ]
    }
   ],
   "source": [
    "data = response.json()['data']\n",
    "\n",
    "# print(json.dumps(data[0:1], indent=4, sort_keys=True))\n",
    "for i in range(len(data)):\n",
    "    for item in data[i]['cost_of_living_details'][0]['details']:\n",
    "        data[i][item['Item']] = item['Value']\n",
    "\n",
    "for i in range(len(data)):      \n",
    "    del data['cost_of_living_details']\n",
    "\n",
    "df = pd.DataFrame(data)\n",
    "# df.set_index = df['country']\n",
    "\n",
    "df"
   ]
  }
 ],
 "metadata": {
  "kernelspec": {
   "display_name": "Python 3",
   "language": "python",
   "name": "python3"
  },
  "language_info": {
   "codemirror_mode": {
    "name": "ipython",
    "version": 3
   },
   "file_extension": ".py",
   "mimetype": "text/x-python",
   "name": "python",
   "nbconvert_exporter": "python",
   "pygments_lexer": "ipython3",
   "version": "3.8.9"
  }
 },
 "nbformat": 4,
 "nbformat_minor": 4
}
