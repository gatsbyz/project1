{
 "cells": [
  {
   "cell_type": "markdown",
   "metadata": {},
   "source": [
    "# Retirement Tool\n"
   ]
  },
  {
   "cell_type": "code",
   "execution_count": 11,
   "metadata": {},
   "outputs": [],
   "source": [
    "# Import the required libraries and dependencies\n",
    "import os\n",
    "import requests\n",
    "import json\n",
    "import pandas as pd\n",
    "from dotenv import load_dotenv\n",
    "%matplotlib inline"
   ]
  },
  {
   "cell_type": "code",
   "execution_count": 12,
   "metadata": {},
   "outputs": [
    {
     "data": {
      "text/plain": [
       "True"
      ]
     },
     "execution_count": 12,
     "metadata": {},
     "output_type": "execute_result"
    }
   ],
   "source": [
    "# Load the environment variables from the .env file by calling the load_dotenv function\n",
    "load_dotenv()"
   ]
  },
  {
   "cell_type": "markdown",
   "metadata": {},
   "source": [
    "## Part 1: Data Pull & Validation\n",
    "\n"
   ]
  },
  {
   "cell_type": "markdown",
   "metadata": {},
   "source": [
    "### Pulling from API and validating data\n"
   ]
  },
  {
   "cell_type": "markdown",
   "metadata": {},
   "source": [
    "#### Step 1.the endpoint URLs for the API calls "
   ]
  },
  {
   "cell_type": "code",
   "execution_count": 13,
   "metadata": {},
   "outputs": [],
   "source": [
    "COST_OF_LIVING_URL = \"https://cities-cost-of-living1.p.rapidapi.com/get_cities_details_by_name\"\n",
    "COST_OF_LIVING_HEADERS = {\n",
    "\t\"content-type\": \"application/x-www-form-urlencoded\",\n",
    "\t\"X-RapidAPI-Host\": \"cities-cost-of-living1.p.rapidapi.com\",\n",
    "\t\"X-RapidAPI-Key\": \"0733542605msh08db76108a18425p16aaa1jsn85b280209dcc\"\n",
    "}\n",
    "payload = {\n",
    "  'cities': '[{\"name\":\"Lisbon\",\"country\":\"Portugal\"},{\"name\":\"Paris\",\"country\":\"France\"},{\"name\":\"Hamilton\",\"country\":\"Bermuda\"},{\"name\":\"New York\",\"country\":\"United States\"}]',\n",
    "  'currencies': '[\"USD\"]'\n",
    "}"
   ]
  },
  {
   "cell_type": "markdown",
   "metadata": {},
   "source": [
    "#### Step 2. Fetch data"
   ]
  },
  {
   "cell_type": "code",
   "execution_count": 14,
   "metadata": {},
   "outputs": [
    {
     "data": {
      "text/plain": [
       "<Response [200]>"
      ]
     },
     "execution_count": 14,
     "metadata": {},
     "output_type": "execute_result"
    }
   ],
   "source": [
    "\n",
    "# response = requests.request(\"POST\", COST_OF_LIVING_URL, data=payload, headers=COST_OF_LIVING_HEADERS)\n",
    "\n",
    "# response\n",
    "\n"
   ]
  },
  {
   "cell_type": "code",
   "execution_count": 15,
   "metadata": {},
   "outputs": [
    {
     "data": {
      "text/html": [
       "<div>\n",
       "<style scoped>\n",
       "    .dataframe tbody tr th:only-of-type {\n",
       "        vertical-align: middle;\n",
       "    }\n",
       "\n",
       "    .dataframe tbody tr th {\n",
       "        vertical-align: top;\n",
       "    }\n",
       "\n",
       "    .dataframe thead th {\n",
       "        text-align: right;\n",
       "    }\n",
       "</style>\n",
       "<table border=\"1\" class=\"dataframe\">\n",
       "  <thead>\n",
       "    <tr style=\"text-align: right;\">\n",
       "      <th></th>\n",
       "      <th>cost_of_living_index</th>\n",
       "      <th>cost_of_living_plus_rent_index</th>\n",
       "      <th>country</th>\n",
       "      <th>groceries_index</th>\n",
       "      <th>last_updated_timestamp</th>\n",
       "      <th>local_purchasing_power_index</th>\n",
       "      <th>name</th>\n",
       "      <th>rent_index</th>\n",
       "      <th>restaurant_price_index</th>\n",
       "      <th>us_state</th>\n",
       "      <th>...</th>\n",
       "      <th>Apartment (1 bedroom) in City Centre</th>\n",
       "      <th>Apartment (1 bedroom) Outside of Centre</th>\n",
       "      <th>Apartment (3 bedrooms) in City Centre</th>\n",
       "      <th>Apartment (3 bedrooms) Outside of Centre</th>\n",
       "      <th>Apartment (Shared Room in a 3 Bedrooms Apartment) in City Centre</th>\n",
       "      <th>Apartment (Shared Room in a 3 Bedrooms Apartment) Outside of Centre</th>\n",
       "      <th>Price per Square Feet to Buy Apartment in City Centre</th>\n",
       "      <th>Price per Square Feet to Buy Apartment Outside of Centre</th>\n",
       "      <th>Average Monthly Net Salary (After Tax)</th>\n",
       "      <th>Mortgage Interest Rate in Percentages (%), Yearly, for 20 Years Fixed-Rate</th>\n",
       "    </tr>\n",
       "  </thead>\n",
       "  <tbody>\n",
       "    <tr>\n",
       "      <th>0</th>\n",
       "      <td>50.13</td>\n",
       "      <td>40.52</td>\n",
       "      <td>Portugal</td>\n",
       "      <td>38.60</td>\n",
       "      <td>2022-02-25 06:04:19.292971+00:00</td>\n",
       "      <td>48.03</td>\n",
       "      <td>Lisbon</td>\n",
       "      <td>29.89</td>\n",
       "      <td>49.92</td>\n",
       "      <td>N/A</td>\n",
       "      <td>...</td>\n",
       "      <td>940.38</td>\n",
       "      <td>708.46</td>\n",
       "      <td>1839.46</td>\n",
       "      <td>1226.52</td>\n",
       "      <td>613.15</td>\n",
       "      <td>408.84</td>\n",
       "      <td>489.84</td>\n",
       "      <td>289.8</td>\n",
       "      <td>1171.19</td>\n",
       "      <td>2.24</td>\n",
       "    </tr>\n",
       "    <tr>\n",
       "      <th>1</th>\n",
       "      <td>81.85</td>\n",
       "      <td>65.33</td>\n",
       "      <td>France</td>\n",
       "      <td>80.94</td>\n",
       "      <td>2022-02-25 06:01:43.310481+00:00</td>\n",
       "      <td>78.38</td>\n",
       "      <td>Paris</td>\n",
       "      <td>47.07</td>\n",
       "      <td>79.53</td>\n",
       "      <td>N/A</td>\n",
       "      <td>...</td>\n",
       "      <td>1403.29</td>\n",
       "      <td>980.62</td>\n",
       "      <td>3015.15</td>\n",
       "      <td>2071.79</td>\n",
       "      <td>1005.05</td>\n",
       "      <td>690.6</td>\n",
       "      <td>1308.14</td>\n",
       "      <td>957.37</td>\n",
       "      <td>3100.66</td>\n",
       "      <td>1.4</td>\n",
       "    </tr>\n",
       "    <tr>\n",
       "      <th>2</th>\n",
       "      <td>147.81</td>\n",
       "      <td>119.78</td>\n",
       "      <td>Bermuda</td>\n",
       "      <td>154.40</td>\n",
       "      <td>2022-02-25 06:01:21.290341+00:00</td>\n",
       "      <td>88.10</td>\n",
       "      <td>Hamilton</td>\n",
       "      <td>88.78</td>\n",
       "      <td>154.25</td>\n",
       "      <td>N/A</td>\n",
       "      <td>...</td>\n",
       "      <td>2669.59</td>\n",
       "      <td>1810.07</td>\n",
       "      <td>5775.52</td>\n",
       "      <td>3836.75</td>\n",
       "      <td>1925.17</td>\n",
       "      <td>1278.91</td>\n",
       "      <td>958.08</td>\n",
       "      <td>525.17</td>\n",
       "      <td>6389.41</td>\n",
       "      <td>7.68</td>\n",
       "    </tr>\n",
       "    <tr>\n",
       "      <th>3</th>\n",
       "      <td>100.00</td>\n",
       "      <td>100.00</td>\n",
       "      <td>United States</td>\n",
       "      <td>100.00</td>\n",
       "      <td>2022-02-25 06:01:25.671931+00:00</td>\n",
       "      <td>100.00</td>\n",
       "      <td>New York</td>\n",
       "      <td>100.00</td>\n",
       "      <td>100.00</td>\n",
       "      <td>NY</td>\n",
       "      <td>...</td>\n",
       "      <td>3243.97</td>\n",
       "      <td>2251.8</td>\n",
       "      <td>6544.01</td>\n",
       "      <td>3832.94</td>\n",
       "      <td>2181.34</td>\n",
       "      <td>1277.65</td>\n",
       "      <td>1415.75</td>\n",
       "      <td>762.44</td>\n",
       "      <td>6054.77</td>\n",
       "      <td>3.63</td>\n",
       "    </tr>\n",
       "  </tbody>\n",
       "</table>\n",
       "<p>4 rows × 67 columns</p>\n",
       "</div>"
      ],
      "text/plain": [
       "  cost_of_living_index cost_of_living_plus_rent_index        country  \\\n",
       "0                50.13                          40.52       Portugal   \n",
       "1                81.85                          65.33         France   \n",
       "2               147.81                         119.78        Bermuda   \n",
       "3               100.00                         100.00  United States   \n",
       "\n",
       "  groceries_index            last_updated_timestamp  \\\n",
       "0           38.60  2022-02-25 06:04:19.292971+00:00   \n",
       "1           80.94  2022-02-25 06:01:43.310481+00:00   \n",
       "2          154.40  2022-02-25 06:01:21.290341+00:00   \n",
       "3          100.00  2022-02-25 06:01:25.671931+00:00   \n",
       "\n",
       "  local_purchasing_power_index      name rent_index restaurant_price_index  \\\n",
       "0                        48.03    Lisbon      29.89                  49.92   \n",
       "1                        78.38     Paris      47.07                  79.53   \n",
       "2                        88.10  Hamilton      88.78                 154.25   \n",
       "3                       100.00  New York     100.00                 100.00   \n",
       "\n",
       "  us_state  ... Apartment (1 bedroom) in City Centre  \\\n",
       "0      N/A  ...                               940.38   \n",
       "1      N/A  ...                              1403.29   \n",
       "2      N/A  ...                              2669.59   \n",
       "3       NY  ...                              3243.97   \n",
       "\n",
       "  Apartment (1 bedroom) Outside of Centre  \\\n",
       "0                                  708.46   \n",
       "1                                  980.62   \n",
       "2                                 1810.07   \n",
       "3                                  2251.8   \n",
       "\n",
       "  Apartment (3 bedrooms) in City Centre  \\\n",
       "0                               1839.46   \n",
       "1                               3015.15   \n",
       "2                               5775.52   \n",
       "3                               6544.01   \n",
       "\n",
       "  Apartment (3 bedrooms) Outside of Centre  \\\n",
       "0                                  1226.52   \n",
       "1                                  2071.79   \n",
       "2                                  3836.75   \n",
       "3                                  3832.94   \n",
       "\n",
       "  Apartment (Shared Room in a 3 Bedrooms Apartment) in City Centre  \\\n",
       "0                                             613.15                 \n",
       "1                                            1005.05                 \n",
       "2                                            1925.17                 \n",
       "3                                            2181.34                 \n",
       "\n",
       "  Apartment (Shared Room in a 3 Bedrooms Apartment) Outside of Centre  \\\n",
       "0                                             408.84                    \n",
       "1                                              690.6                    \n",
       "2                                            1278.91                    \n",
       "3                                            1277.65                    \n",
       "\n",
       "  Price per Square Feet to Buy Apartment in City Centre  \\\n",
       "0                                             489.84      \n",
       "1                                            1308.14      \n",
       "2                                             958.08      \n",
       "3                                            1415.75      \n",
       "\n",
       "  Price per Square Feet to Buy Apartment Outside of Centre  \\\n",
       "0                                              289.8         \n",
       "1                                             957.37         \n",
       "2                                             525.17         \n",
       "3                                             762.44         \n",
       "\n",
       "  Average Monthly Net Salary (After Tax)  \\\n",
       "0                                1171.19   \n",
       "1                                3100.66   \n",
       "2                                6389.41   \n",
       "3                                6054.77   \n",
       "\n",
       "  Mortgage Interest Rate in Percentages (%), Yearly, for 20 Years Fixed-Rate  \n",
       "0                                               2.24                          \n",
       "1                                                1.4                          \n",
       "2                                               7.68                          \n",
       "3                                               3.63                          \n",
       "\n",
       "[4 rows x 67 columns]"
      ]
     },
     "metadata": {},
     "output_type": "display_data"
    }
   ],
   "source": [
    "# data = response.json()['data']\n",
    "\n",
    "# # print(json.dumps(data[0:1], indent=4, sort_keys=True))\n",
    "# for i in range(len(data)):\n",
    "#     for item in data[i]['cost_of_living_details'][0]['details']:\n",
    "#         data[i][item['Item']] = item['Value']\n",
    "\n",
    "# for i in range(len(data)):      \n",
    "#     del data[i]['cost_of_living_details']\n",
    "\n",
    "# df = pd.DataFrame(data)\n",
    "# # df.set_index = df['country']\n",
    "\n",
    "# display(df)"
   ]
  }
 ],
 "metadata": {
  "kernelspec": {
   "display_name": "Python 3",
   "language": "python",
   "name": "python3"
  },
  "language_info": {
   "codemirror_mode": {
    "name": "ipython",
    "version": 3
   },
   "file_extension": ".py",
   "mimetype": "text/x-python",
   "name": "python",
   "nbconvert_exporter": "python",
   "pygments_lexer": "ipython3",
   "version": "3.8.9"
  }
 },
 "nbformat": 4,
 "nbformat_minor": 4
}
