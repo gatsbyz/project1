{
 "cells": [
  {
   "cell_type": "code",
   "execution_count": 26,
   "metadata": {},
   "outputs": [],
   "source": [
    "import requests\n",
    "\n",
    "url = \"https://api.apilayer.com/currency_data/change?start_date=2022-01-01&end_date=2022-05-01\"\n",
    "\n",
    "payload = {}\n",
    "headers= {\n",
    "  \"apikey\": \"8yt6t5PcRpUyHZuuDI71Szds9BytbWlT\"\n",
    "}\n",
    "\n",
    "response = requests.request(\"GET\", url, headers=headers, data = payload)\n",
    "\n",
    "status_code = response.status_code\n",
    "result = response.json()\n",
    "USD_amount = 100000"
   ]
  },
  {
   "cell_type": "code",
   "execution_count": 27,
   "metadata": {},
   "outputs": [
    {
     "name": "stdout",
     "output_type": "stream",
     "text": [
      "1\n",
      "Your finances would be the equivlent of : 100000 BMD\n",
      "The BMD is pegged to the USD\n"
     ]
    }
   ],
   "source": [
    "#Bermudian dollar\n",
    "\n",
    "print(result['quotes'][\"USDBMD\"]['end_rate'])\n",
    "conversion_BMD = USD_amount * (result['quotes'][\"USDBMD\"]['end_rate'])\n",
    "print(\"Your finances would be the equivlent of :\", conversion_BMD,\"BMD\")\n",
    "print(\"The BMD is pegged to the USD\")"
   ]
  },
  {
   "cell_type": "code",
   "execution_count": 28,
   "metadata": {},
   "outputs": [
    {
     "name": "stdout",
     "output_type": "stream",
     "text": [
      "7.84725\n",
      "Your finances would be the equivlent of : 784725.0 HKD\n"
     ]
    }
   ],
   "source": [
    "#Hong-Kong Dollar\n",
    "\n",
    "print(result['quotes']['USDHKD']['end_rate'])\n",
    "conversion_HKD = USD_amount * (result['quotes']['USDHKD']['end_rate'])\n",
    "print(\"Your finances would be the equivlent of :\", conversion_HKD,\"HKD\")"
   ]
  },
  {
   "cell_type": "code",
   "execution_count": 29,
   "metadata": {},
   "outputs": [
    {
     "name": "stdout",
     "output_type": "stream",
     "text": [
      "0.94916\n",
      "Your finances would be the equivlent of : 94916.0 EUR\n"
     ]
    }
   ],
   "source": [
    "#Euro(france/italy/spain) \n",
    "print(result['quotes']['USDEUR']['end_rate'])\n",
    "conversion_eur = USD_amount * (result['quotes']['USDEUR']['end_rate'])\n",
    "print(\"Your finances would be the equivlent of :\", conversion_eur,\"EUR\")"
   ]
  },
  {
   "cell_type": "code",
   "execution_count": 30,
   "metadata": {},
   "outputs": [
    {
     "name": "stdout",
     "output_type": "stream",
     "text": [
      "1.28555\n",
      "Your finances would be the equivlent of : 128555.0 CAD\n"
     ]
    }
   ],
   "source": [
    "#Canada \n",
    "print(result['quotes']['USDCAD']['end_rate'])\n",
    "conveion_cad = USD_amount * (result['quotes']['USDCAD']['end_rate'])\n",
    "print(\"Your finances would be the equivlent of :\", conveion_cad,\"CAD\")"
   ]
  },
  {
   "cell_type": "code",
   "execution_count": 31,
   "metadata": {},
   "outputs": [
    {
     "name": "stdout",
     "output_type": "stream",
     "text": [
      "3958\n",
      "Your finances would be the equivlent of : 395800000 COP\n"
     ]
    }
   ],
   "source": [
    "#Columbia\n",
    "print(result['quotes']['USDCOP']['end_rate'])\n",
    "conversion_COP = USD_amount * (result['quotes']['USDCOP']['end_rate'])\n",
    "print(\"Your finances would be the equivlent of :\", conversion_COP,\"COP\")"
   ]
  },
  {
   "cell_type": "code",
   "execution_count": 32,
   "metadata": {},
   "outputs": [
    {
     "name": "stdout",
     "output_type": "stream",
     "text": [
      "76.52335\n",
      "Your finances would be the equivlent of : 7652334.999999999 INR\n"
     ]
    }
   ],
   "source": [
    "print(result['quotes']['USDINR']['end_rate'])\n",
    "conversion_inr = USD_amount * (result['quotes']['USDINR']['end_rate'])\n",
    "print(\"Your finances would be the equivlent of :\", conversion_inr ,\"INR\")"
   ]
  },
  {
   "cell_type": "code",
   "execution_count": null,
   "metadata": {},
   "outputs": [],
   "source": []
  }
 ],
 "metadata": {
  "interpreter": {
   "hash": "761d452bf12b7fa6bd36b7e3d5d1c3dedccb4f50a7d2d4df5502bd12faa3cdf9"
  },
  "kernelspec": {
   "display_name": "Python 3.9.7 ('base')",
   "language": "python",
   "name": "python3"
  },
  "language_info": {
   "codemirror_mode": {
    "name": "ipython",
    "version": 3
   },
   "file_extension": ".py",
   "mimetype": "text/x-python",
   "name": "python",
   "nbconvert_exporter": "python",
   "pygments_lexer": "ipython3",
   "version": "3.9.7"
  },
  "orig_nbformat": 4
 },
 "nbformat": 4,
 "nbformat_minor": 2
}
