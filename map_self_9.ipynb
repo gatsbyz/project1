{
 "cells": [
  {
   "cell_type": "code",
   "execution_count": 17,
   "metadata": {},
   "outputs": [
    {
     "name": "stdout",
     "output_type": "stream",
     "text": [
      "['Bucaramanga', 'Delhi']\n"
     ]
    }
   ],
   "source": [
    "import folium\n",
    "import json\n",
    "import fileio\n",
    "\n",
    "\n",
    "f = open('location-data.json')\n",
    "rawData = json.load(f)\n",
    "f.close()\n",
    "\n",
    "retirement_cities = fileio.load_csv(\"retirement-cities.csv\")\n",
    "print (retirement_cities)\n",
    "\n",
    "cities = rawData"
   ]
  },
  {
   "cell_type": "code",
   "execution_count": 18,
   "metadata": {},
   "outputs": [],
   "source": [
    "my_map3 = folium.Map(location=[13/133932434766733, 16.10398729508073],\n",
    "    zoom_start=2)"
   ]
  },
  {
   "cell_type": "code",
   "execution_count": 19,
   "metadata": {},
   "outputs": [
    {
     "name": "stdout",
     "output_type": "stream",
     "text": [
      "Bucaramanga\n",
      "Delhi\n"
     ]
    }
   ],
   "source": [
    "\n",
    "for city in retirement_cities:\n",
    "    mk = folium.Marker(rawData[city]['lat-long'])\n",
    "    pp = folium.Popup(rawData[city]['name'])\n",
    "    ic = folium.Icon(rawData[city]['color'])\n",
    "\n",
    "    mk.add_child(ic)\n",
    "    mk.add_child(pp)\n",
    "    my_map3.add_child(mk)\n",
    "\n"
   ]
  },
  {
   "cell_type": "code",
   "execution_count": 20,
   "metadata": {},
   "outputs": [],
   "source": [
    "my_map3.save(\"Interactive retirement map\")"
   ]
  }
 ],
 "metadata": {
  "interpreter": {
   "hash": "eeef3db1fc3c082c06e0fd1152a62525e92514a8ce47ae3f43ff4f6cc85b258c"
  },
  "kernelspec": {
   "display_name": "Python 3.9.7 ('base')",
   "language": "python",
   "name": "python3"
  },
  "language_info": {
   "codemirror_mode": {
    "name": "ipython",
    "version": 3
   },
   "file_extension": ".py",
   "mimetype": "text/x-python",
   "name": "python",
   "nbconvert_exporter": "python",
   "pygments_lexer": "ipython3",
   "version": "3.9.7"
  }
 },
 "nbformat": 4,
 "nbformat_minor": 4
}
