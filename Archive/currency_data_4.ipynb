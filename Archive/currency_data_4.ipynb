{
 "cells": [
  {
   "cell_type": "code",
   "execution_count": 4,
   "metadata": {},
   "outputs": [],
   "source": [
    "import requests\n",
    "\n",
    "url = \"https://api.apilayer.com/currency_data/change?start_date=2022-01-01&end_date=2022-05-01\"\n",
    "\n",
    "payload = {}\n",
    "headers= {\n",
    "  \"apikey\": \"8yt6t5PcRpUyHZuuDI71Szds9BytbWlT\"\n",
    "}\n",
    "\n",
    "response = requests.request(\"GET\", url, headers=headers, data = payload)\n",
    "\n",
    "status_code = response.status_code\n",
    "result = response.json()"
   ]
  },
  {
   "cell_type": "code",
   "execution_count": 5,
   "metadata": {},
   "outputs": [
    {
     "name": "stdout",
     "output_type": "stream",
     "text": [
      "1\n"
     ]
    }
   ],
   "source": [
    "#Bermudian dollar\n",
    "\n",
    "print(result['quotes'][\"USDBMD\"]['end_rate'])"
   ]
  },
  {
   "cell_type": "code",
   "execution_count": 6,
   "metadata": {},
   "outputs": [
    {
     "name": "stdout",
     "output_type": "stream",
     "text": [
      "7.84725\n"
     ]
    }
   ],
   "source": [
    "#Hong-Kong Dollar\n",
    "\n",
    "print(result['quotes']['USDHKD']['end_rate'])"
   ]
  },
  {
   "cell_type": "code",
   "execution_count": 7,
   "metadata": {},
   "outputs": [
    {
     "name": "stdout",
     "output_type": "stream",
     "text": [
      "0.94916\n"
     ]
    }
   ],
   "source": [
    "#Euro(france/italy/spain) \n",
    "print(result['quotes']['USDEUR']['end_rate'])"
   ]
  },
  {
   "cell_type": "code",
   "execution_count": 8,
   "metadata": {},
   "outputs": [
    {
     "name": "stdout",
     "output_type": "stream",
     "text": [
      "1.28555\n"
     ]
    }
   ],
   "source": [
    "#Canada \n",
    "print(result['quotes']['USDCAD']['end_rate'])"
   ]
  },
  {
   "cell_type": "code",
   "execution_count": 9,
   "metadata": {},
   "outputs": [
    {
     "name": "stdout",
     "output_type": "stream",
     "text": [
      "3958\n"
     ]
    }
   ],
   "source": [
    "#Columbia\n",
    "print(result['quotes']['USDCOP']['end_rate'])"
   ]
  },
  {
   "cell_type": "code",
   "execution_count": 10,
   "metadata": {},
   "outputs": [
    {
     "name": "stdout",
     "output_type": "stream",
     "text": [
      "76.52335\n"
     ]
    }
   ],
   "source": [
    "print(result['quotes']['USDINR']['end_rate'])"
   ]
  }
 ],
 "metadata": {
  "interpreter": {
   "hash": "761d452bf12b7fa6bd36b7e3d5d1c3dedccb4f50a7d2d4df5502bd12faa3cdf9"
  },
  "kernelspec": {
   "display_name": "Python 3.9.7 ('base')",
   "language": "python",
   "name": "python3"
  },
  "language_info": {
   "codemirror_mode": {
    "name": "ipython",
    "version": 3
   },
   "file_extension": ".py",
   "mimetype": "text/x-python",
   "name": "python",
   "nbconvert_exporter": "python",
   "pygments_lexer": "ipython3",
   "version": "3.9.7"
  },
  "orig_nbformat": 4
 },
 "nbformat": 4,
 "nbformat_minor": 2
}
