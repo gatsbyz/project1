{
 "cells": [
  {
   "cell_type": "code",
   "execution_count": 13,
   "id": "1d268be0-e8f9-4c16-ba43-b1e023c91d0f",
   "metadata": {},
   "outputs": [
    {
     "data": {
      "text/plain": [
       "1230.498126807134"
      ]
     },
     "execution_count": 13,
     "metadata": {},
     "output_type": "execute_result"
    }
   ],
   "source": [
    "#loan payoff calculator\n",
    "\n",
    "def myMonPayment(prinicipal,rate,years):\n",
    "    \n",
    "    n = years * 12 #no. of monthly payments\n",
    "    r = (rate/100)/12 # monthly interest rate\n",
    "    MonPayment = (r*prinicipal*((1+r)**n))/(((1+r)**n)-1)\n",
    "    \n",
    "    return MonPayment\n",
    "\n",
    "myMonPayment(265700, 3.75, 30)\n"
   ]
  },
  {
   "cell_type": "code",
   "execution_count": null,
   "id": "fd38669c-6e9f-4e29-96ef-4fa81391ee87",
   "metadata": {},
   "outputs": [],
   "source": [
    "#Inflation.  Back into an equation where amount of years is calculated by amount needed.  Should calculate the difference of Capital and \n",
    "#Cost of Living over the course of however many years\n",
    "\n",
    "def cost_of_living_inf(cost_of_living,rate,years):\n",
    "    \n",
    "    n = years * 12 #no. of monthly payments\n",
    "    r = (rate/100)/12 # monthly interest rate\n",
    "    MonPayment = (r*prinicipal*((1+r)**n))/(((1+r)**n)-1)\n",
    "    \n",
    "    return MonPayment\n",
    "\n",
    "myMonPayment(265700, 3.75, 30)"
   ]
  }
 ],
 "metadata": {
  "kernelspec": {
   "display_name": "Python 3 (ipykernel)",
   "language": "python",
   "name": "python3"
  },
  "language_info": {
   "codemirror_mode": {
    "name": "ipython",
    "version": 3
   },
   "file_extension": ".py",
   "mimetype": "text/x-python",
   "name": "python",
   "nbconvert_exporter": "python",
   "pygments_lexer": "ipython3",
   "version": "3.9.7"
  }
 },
 "nbformat": 4,
 "nbformat_minor": 5
}
