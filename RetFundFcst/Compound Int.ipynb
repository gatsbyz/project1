{
 "cells": [
  {
   "cell_type": "code",
   "execution_count": null,
   "id": "f712880c-5d42-49cd-9ab2-efdbfce636de",
   "metadata": {},
   "outputs": [],
   "source": [
    "# Calculator to Compound Interests (Convert to Questionary)\n",
    "\n",
    "while start_over = 'true':\n",
    "    \n",
    "    \n",
    "start_over = 'true'    \n",
    "principle = int(input('type starting amount'))\n",
    "addition = int(input('type annual addition'))\n",
    "rate = float(input('type interest rate'))\n",
    "time = int(input('enter number of years to invest'))           \n",
    "real_rate = rate * 0.01\n",
    "i = 0\n",
    "\n",
    "\n",
    "\n",
    "print('total', principle * (1 + real_rate))\n",
    "           \n",
    "while i < time:\n",
    "    principle = (principle + addition) * (1 + real_rate)\n",
    "    i = i + 1\n",
    "    print('total', principle)\n",
    "    \n",
    "    \n",
    "    \n",
    "    \n"
   ]
  }
 ],
 "metadata": {
  "kernelspec": {
   "display_name": "Python 3 (ipykernel)",
   "language": "python",
   "name": "python3"
  },
  "language_info": {
   "codemirror_mode": {
    "name": "ipython",
    "version": 3
   },
   "file_extension": ".py",
   "mimetype": "text/x-python",
   "name": "python",
   "nbconvert_exporter": "python",
   "pygments_lexer": "ipython3",
   "version": "3.9.7"
  }
 },
 "nbformat": 4,
 "nbformat_minor": 5
}
