{
 "cells": [
  {
   "cell_type": "code",
   "execution_count": null,
   "id": "bbbbb1c0-1359-406a-a3c7-1444f0580a8e",
   "metadata": {},
   "outputs": [],
   "source": [
    "\n",
    "# Update to MonteCarlo Function on May 14 2022 to include calc_cumulative_returns within MonteCarlo Function.\n",
    "#from MCForecastTools import MCSimulation # Importing Class but Can Also Import Functions to access variables and data from another script.\n",
    "\n",
    "#from MCForecastTools import * (Will Give Acess to all of the functions within the python file)\n",
    "\n",
    "\n",
    "def MonteCarlo(df_portfolio, year_to_retirement, portfolio_type):\n",
    "    if portfolio_type == 'Moderate':\n",
    "        MonteCarlo_output = MCSimulation(\n",
    "            portfolio_data = df_portfolio,\n",
    "            weights = [.63,.37],\n",
    "            num_simulation = 500,\n",
    "            num_trading_days = 252*years_to_retirement\n",
    ")\n",
    "        MonteCarlo_output.calc_cumulative_returns()\n",
    "        return MonteCarlo_output\n",
    "        \n",
    "    elif portfolio_type == \"Conservative\":\n",
    "        MonteCarlo_output = MCSimulation(\n",
    "            portfolio_data = df_portfolio,\n",
    "            weights = [.29,.71],\n",
    "            num_simulation = 500,\n",
    "            num_trading_days = 252*years_to_retirement\n",
    ")\n",
    "        MonteCarlo_output.calc_cumulative_returns()\n",
    "        return MonteCarlo_output\n",
    "        \n",
    "    else:\n",
    "        MonteCarlo_output == MCSimulation(\n",
    "            portfolio_data = df_portfolio,\n",
    "            weights = [.44,.56],\n",
    "            num_simulation = 500,\n",
    "            num_trading_days = 252*years_to_retirement\n",
    ")\n",
    "        MonteCarlo_output.calc_cumulative_returns()\n",
    "        return MonteCarlo_output\n",
    "\n",
    "# Review the simulation input data\n",
    "\n",
    "output = MonteCarlo()\n",
    "\n",
    "output.portfolio_data.dropna()\n",
    "\n"
   ]
  },
  {
   "cell_type": "code",
   "execution_count": null,
   "id": "b3344de4-95f3-4ecd-8423-bd1cad75ec6b",
   "metadata": {},
   "outputs": [],
   "source": [
    "# Visualize the years to retirement Monte Carlo simulation by creating an\n",
    "# overlay line plot\n",
    "MC_sim_line_plot = output.plot_simulation()\n"
   ]
  },
  {
   "cell_type": "code",
   "execution_count": null,
   "id": "54034e6d-24bf-490c-a770-ac5546d85f21",
   "metadata": {},
   "outputs": [],
   "source": [
    "# Visualize the probability distribution of the years to retirement Monte Carlo simulation \n",
    "# by plotting a histogram\n",
    "MC_sim_dist_plot = output.plot_distribution()"
   ]
  },
  {
   "cell_type": "code",
   "execution_count": null,
   "id": "1156c49d-47d3-46a6-a548-97df56140a6c",
   "metadata": {},
   "outputs": [],
   "source": [
    "#Step 4: Generate the summary statistics for the Monte Carlo simulation.\n",
    "# Generate summary statistics from the {years_to_retirement} Monte Carlo simulation results\n",
    "# Save the results as a variable\n",
    "MC_summary_statistics = output.summarize_cumulative_return()\n",
    "\n",
    "\n",
    "# Review the {years_to_retirement} Monte Carlo summary statistics\n",
    "print(MC_summary_statistics)"
   ]
  }
 ],
 "metadata": {
  "kernelspec": {
   "display_name": "Python 3 (ipykernel)",
   "language": "python",
   "name": "python3"
  },
  "language_info": {
   "codemirror_mode": {
    "name": "ipython",
    "version": 3
   },
   "file_extension": ".py",
   "mimetype": "text/x-python",
   "name": "python",
   "nbconvert_exporter": "python",
   "pygments_lexer": "ipython3",
   "version": "3.9.12"
  }
 },
 "nbformat": 4,
 "nbformat_minor": 5
}
